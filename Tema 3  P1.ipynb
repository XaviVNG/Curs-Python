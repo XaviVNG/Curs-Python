{
 "cells": [
  {
   "cell_type": "code",
   "execution_count": 21,
   "metadata": {},
   "outputs": [],
   "source": [
    "from sklearn.datasets import load_iris\n"
   ]
  },
  {
   "cell_type": "code",
   "execution_count": 22,
   "metadata": {},
   "outputs": [],
   "source": [
    "iris = load_iris()"
   ]
  },
  {
   "cell_type": "code",
   "execution_count": 24,
   "metadata": {},
   "outputs": [],
   "source": [
    "data = iris.data\n",
    "target = iris.target"
   ]
  },
  {
   "cell_type": "code",
   "execution_count": 25,
   "metadata": {},
   "outputs": [
    {
     "name": "stdout",
     "output_type": "stream",
     "text": [
      "Primeres 10 mostres de les dades 'data':\n",
      "[[5.1 3.5 1.4 0.2]\n",
      " [4.9 3.  1.4 0.2]\n",
      " [4.7 3.2 1.3 0.2]\n",
      " [4.6 3.1 1.5 0.2]\n",
      " [5.  3.6 1.4 0.2]\n",
      " [5.4 3.9 1.7 0.4]\n",
      " [4.6 3.4 1.4 0.3]\n",
      " [5.  3.4 1.5 0.2]\n",
      " [4.4 2.9 1.4 0.2]\n",
      " [4.9 3.1 1.5 0.1]]\n"
     ]
    }
   ],
   "source": [
    "print(\"Primeres 10 mostres de les dades 'data':\")\n",
    "print(data[:10])"
   ]
  },
  {
   "cell_type": "code",
   "execution_count": 26,
   "metadata": {},
   "outputs": [
    {
     "name": "stdout",
     "output_type": "stream",
     "text": [
      "Primeres 10 mostres de les dades 'target':\n",
      "[0 0 0 0 0 0 0 0 0 0]\n"
     ]
    }
   ],
   "source": [
    "print(\"Primeres 10 mostres de les dades 'target':\")\n",
    "print(target[:10])"
   ]
  },
  {
   "cell_type": "code",
   "execution_count": 28,
   "metadata": {},
   "outputs": [],
   "source": [
    "concatenated_array = np.concatenate((data, target.reshape(-1,1)), axis=1)\n",
    "\n"
   ]
  },
  {
   "cell_type": "code",
   "execution_count": 30,
   "metadata": {},
   "outputs": [
    {
     "name": "stdout",
     "output_type": "stream",
     "text": [
      "Els 5 primers registres del nou array:\n",
      "[[5.1 3.5 1.4 0.2 0. ]\n",
      " [4.9 3.  1.4 0.2 0. ]\n",
      " [4.7 3.2 1.3 0.2 0. ]\n",
      " [4.6 3.1 1.5 0.2 0. ]\n",
      " [5.  3.6 1.4 0.2 0. ]]\n"
     ]
    }
   ],
   "source": [
    "print(\"Els 5 primers registres del nou array:\")\n",
    "print(concatenated_array[:5])\n"
   ]
  },
  {
   "cell_type": "code",
   "execution_count": 32,
   "metadata": {},
   "outputs": [
    {
     "name": "stdout",
     "output_type": "stream",
     "text": [
      "Mitjana de la longitud del sèpal: 5.84\n",
      "Desviació estàndard de la longitud del sèpal: 0.83\n",
      "Mitjana de la longitud del pètal: 3.76\n",
      "Desviació estàndard de la longitud del pètal: 1.76\n"
     ]
    }
   ],
   "source": [
    "# Calcular la mitjana de la longitud del sèpal\n",
    "sepal_length_mean = np.mean(data[:, 0])\n",
    "\n",
    "# Calcular la desviació estàndard de la longitud del sèpal\n",
    "sepal_length_std = np.std(data[:, 0])\n",
    "\n",
    "# Calcular la mitjana de la longitud del pètal\n",
    "petal_length_mean = np.mean(data[:, 2])\n",
    "\n",
    "# Calcular la desviació estàndard de la longitud del pètal\n",
    "petal_length_std = np.std(data[:, 2])\n",
    "\n",
    "# Mostrar els resultats amb dos decimals\n",
    "print(\"Mitjana de la longitud del sèpal: {:.2f}\".format(sepal_length_mean))\n",
    "print(\"Desviació estàndard de la longitud del sèpal: {:.2f}\".format(sepal_length_std))\n",
    "print(\"Mitjana de la longitud del pètal: {:.2f}\".format(petal_length_mean))\n",
    "print(\"Desviació estàndard de la longitud del pètal: {:.2f}\".format(petal_length_std))\n"
   ]
  },
  {
   "cell_type": "code",
   "execution_count": 3,
   "metadata": {},
   "outputs": [
    {
     "ename": "ValueError",
     "evalue": "a must be 1-dimensional",
     "output_type": "error",
     "traceback": [
      "\u001b[1;31m---------------------------------------------------------------------------\u001b[0m",
      "\u001b[1;31mValueError\u001b[0m                                Traceback (most recent call last)",
      "\u001b[1;32md:\\Usuaris\\super\\Documents\\python\\T3\\Tema 3  P1.ipynb Cell 9\u001b[0m line \u001b[0;36m2\n\u001b[0;32m      <a href='vscode-notebook-cell:/d%3A/Usuaris/super/Documents/python/T3/Tema%203%20%20P1.ipynb#X12sZmlsZQ%3D%3D?line=0'>1</a>\u001b[0m \u001b[39m# Seleccionar una mostra aleatòria de 20 registres\u001b[39;00m\n\u001b[1;32m----> <a href='vscode-notebook-cell:/d%3A/Usuaris/super/Documents/python/T3/Tema%203%20%20P1.ipynb#X12sZmlsZQ%3D%3D?line=1'>2</a>\u001b[0m random_sample \u001b[39m=\u001b[39m np\u001b[39m.\u001b[39mrandom\u001b[39m.\u001b[39mchoice(concatenated_array, size\u001b[39m=\u001b[39m\u001b[39m20\u001b[39m, )\n\u001b[0;32m      <a href='vscode-notebook-cell:/d%3A/Usuaris/super/Documents/python/T3/Tema%203%20%20P1.ipynb#X12sZmlsZQ%3D%3D?line=3'>4</a>\u001b[0m \u001b[39m# Mostrar la mostra aleatòria seleccionada\u001b[39;00m\n\u001b[0;32m      <a href='vscode-notebook-cell:/d%3A/Usuaris/super/Documents/python/T3/Tema%203%20%20P1.ipynb#X12sZmlsZQ%3D%3D?line=4'>5</a>\u001b[0m \u001b[39mprint\u001b[39m(\u001b[39m\"\u001b[39m\u001b[39mMostra aleatòria de 20 registres:\u001b[39m\u001b[39m\"\u001b[39m)\n",
      "File \u001b[1;32mmtrand.pyx:930\u001b[0m, in \u001b[0;36mnumpy.random.mtrand.RandomState.choice\u001b[1;34m()\u001b[0m\n",
      "\u001b[1;31mValueError\u001b[0m: a must be 1-dimensional"
     ]
    }
   ],
   "source": [
    "# Seleccionar una mostra aleatòria de 20 registres\n",
    "random_sample = np.random.choice(concatenated_array, size=20, )\n",
    "\n",
    "# Mostrar la mostra aleatòria seleccionada\n",
    "print(\"Mostra aleatòria de 20 registres:\")\n",
    "print(random_sample)\n"
   ]
  },
  {
   "cell_type": "code",
   "execution_count": 7,
   "metadata": {},
   "outputs": [
    {
     "ename": "ValueError",
     "evalue": "could not broadcast input array from shape (8,) into shape (4,)",
     "output_type": "error",
     "traceback": [
      "\u001b[1;31m---------------------------------------------------------------------------\u001b[0m",
      "\u001b[1;31mValueError\u001b[0m                                Traceback (most recent call last)",
      "\u001b[1;32md:\\Usuaris\\super\\Documents\\python\\T3\\Tema 3  P1.ipynb Cell 10\u001b[0m line \u001b[0;36m2\n\u001b[0;32m     <a href='vscode-notebook-cell:/d%3A/Usuaris/super/Documents/python/T3/Tema%203%20%20P1.ipynb#X13sZmlsZQ%3D%3D?line=17'>18</a>\u001b[0m \u001b[39mfor\u001b[39;00m i \u001b[39min\u001b[39;00m \u001b[39mrange\u001b[39m(\u001b[39m3\u001b[39m):\n\u001b[0;32m     <a href='vscode-notebook-cell:/d%3A/Usuaris/super/Documents/python/T3/Tema%203%20%20P1.ipynb#X13sZmlsZQ%3D%3D?line=18'>19</a>\u001b[0m     species_data \u001b[39m=\u001b[39m concatenated_array[concatenated_array[:, \u001b[39m-\u001b[39m\u001b[39m1\u001b[39m] \u001b[39m==\u001b[39m i, :\u001b[39m-\u001b[39m\u001b[39m1\u001b[39m]\n\u001b[1;32m---> <a href='vscode-notebook-cell:/d%3A/Usuaris/super/Documents/python/T3/Tema%203%20%20P1.ipynb#X13sZmlsZQ%3D%3D?line=19'>20</a>\u001b[0m     result_matrix[i, :] \u001b[39m=\u001b[39m np\u001b[39m.\u001b[39mconcatenate((np\u001b[39m.\u001b[39mmean(species_data, axis\u001b[39m=\u001b[39m\u001b[39m0\u001b[39m), np\u001b[39m.\u001b[39mstd(species_data, axis\u001b[39m=\u001b[39m\u001b[39m0\u001b[39m)))\n\u001b[0;32m     <a href='vscode-notebook-cell:/d%3A/Usuaris/super/Documents/python/T3/Tema%203%20%20P1.ipynb#X13sZmlsZQ%3D%3D?line=21'>22</a>\u001b[0m \u001b[39m# Mostrar la matriu amb les mitjanes i desviacions estàndard per espècie\u001b[39;00m\n\u001b[0;32m     <a href='vscode-notebook-cell:/d%3A/Usuaris/super/Documents/python/T3/Tema%203%20%20P1.ipynb#X13sZmlsZQ%3D%3D?line=22'>23</a>\u001b[0m \u001b[39mprint\u001b[39m(\u001b[39m\"\u001b[39m\u001b[39mMatriu amb la mitjana i desviació estàndard per espècie:\u001b[39m\u001b[39m\"\u001b[39m)\n",
      "\u001b[1;31mValueError\u001b[0m: could not broadcast input array from shape (8,) into shape (4,)"
     ]
    }
   ],
   "source": [
    "import numpy as np\n",
    "from sklearn.datasets import load_iris\n",
    "\n",
    "# Carregar el conjunt de dades Iris\n",
    "iris = load_iris()\n",
    "\n",
    "# Carregar les dades \"data\" i \"target\"\n",
    "data = iris.data\n",
    "target = iris.target\n",
    "\n",
    "# Concatenar les dades \"data\" i \"target\" en un nou array\n",
    "concatenated_array = np.concatenate((data, target.reshape(-1,1)), axis=1)\n",
    "\n",
    "# Crear una matriu buida per emmagatzemar els resultats\n",
    "result_matrix = np.zeros((3, 4))\n",
    "\n",
    "# Calcular la mitjana i desviació estàndard de cada característica per espècie\n",
    "for i in range(3):\n",
    "    species_data = concatenated_array[concatenated_array[:, -1] == i, :-1]\n",
    "    result_matrix[i, :] = np.concatenate((np.mean(species_data, axis=0), np.std(species_data, axis=0)))\n",
    "\n",
    "# Mostrar la matriu amb les mitjanes i desviacions estàndard per espècie\n",
    "print(\"Matriu amb la mitjana i desviació estàndard per espècie:\")\n",
    "print(result_matrix)"
   ]
  },
  {
   "cell_type": "code",
   "execution_count": 8,
   "metadata": {},
   "outputs": [
    {
     "name": "stdout",
     "output_type": "stream",
     "text": [
      "L'espècie amb el valor màxim mitjana de la variable 'sepal length (cm)' és: setosa\n"
     ]
    }
   ],
   "source": [
    "# Trobar l'espècie amb el valor màxim mitjana de la variable \"sepal length (cm)\"\n",
    "max_index = np.argmax(np.mean(data[:, 0].reshape(-1, 1), axis=0) * (target == 0).sum())\n",
    "\n",
    "# Mostrar l'espècie amb el valor màxim mitjana de la variable \"sepal length (cm)\"\n",
    "print(\"L'espècie amb el valor màxim mitjana de la variable 'sepal length (cm)' és:\", iris.target_names[max_index])"
   ]
  },
  {
   "cell_type": "code",
   "execution_count": 9,
   "metadata": {},
   "outputs": [
    {
     "name": "stdout",
     "output_type": "stream",
     "text": [
      "La mostra amb els pètals més llargs:\n",
      "[7.7 2.6 6.9 2.3]\n"
     ]
    }
   ],
   "source": [
    "# Trobar la mostra amb els pètals més llargs\n",
    "max_index = np.argmax(data[:, 2])\n",
    "\n",
    "# Mostrar la mostra amb els pètals més llargs\n",
    "print(\"La mostra amb els pètals més llargs:\")\n",
    "print(data[max_index])"
   ]
  }
 ],
 "metadata": {
  "kernelspec": {
   "display_name": "base",
   "language": "python",
   "name": "python3"
  },
  "language_info": {
   "codemirror_mode": {
    "name": "ipython",
    "version": 3
   },
   "file_extension": ".py",
   "mimetype": "text/x-python",
   "name": "python",
   "nbconvert_exporter": "python",
   "pygments_lexer": "ipython3",
   "version": "3.11.5"
  }
 },
 "nbformat": 4,
 "nbformat_minor": 2
}
