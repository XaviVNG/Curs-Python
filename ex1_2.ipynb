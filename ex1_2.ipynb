{
 "cells": [
  {
   "cell_type": "code",
   "execution_count": 1,
   "metadata": {},
   "outputs": [
    {
     "name": "stdout",
     "output_type": "stream",
     "text": [
      "febrer\n",
      "['gener', 'febrer', 'març']\n",
      "setembre octubre\n"
     ]
    }
   ],
   "source": [
    "T1 = ['gener','febrer','març']\n",
    "T2 = ['abril','maig','juny']\n",
    "T3 = ['juliol','agost','setembre']\n",
    "T4 = ['octubre','novembre','desembre']\n",
    "lista = [T1,T2,T3,T4]\n",
    "\n",
    "print(lista[0][1])\n",
    "\n",
    "print(lista[0])\n",
    "\n",
    "print(lista[2][2], lista[3][0])\n"
   ]
  }
 ],
 "metadata": {
  "kernelspec": {
   "display_name": "base",
   "language": "python",
   "name": "python3"
  },
  "language_info": {
   "codemirror_mode": {
    "name": "ipython",
    "version": 3
   },
   "file_extension": ".py",
   "mimetype": "text/x-python",
   "name": "python",
   "nbconvert_exporter": "python",
   "pygments_lexer": "ipython3",
   "version": "3.11.5"
  }
 },
 "nbformat": 4,
 "nbformat_minor": 2
}
