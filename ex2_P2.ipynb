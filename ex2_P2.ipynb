{
 "cells": [
  {
   "cell_type": "code",
   "execution_count": 8,
   "metadata": {},
   "outputs": [],
   "source": [
    "# Pide al usuario que introduzca dos números\n",
    "num1 = int(input(\"Introduce el primer número: \"))\n",
    "num2 = int(input(\"Introduce el segundo número: \"))"
   ]
  },
  {
   "cell_type": "code",
   "execution_count": 12,
   "metadata": {},
   "outputs": [
    {
     "name": "stdout",
     "output_type": "stream",
     "text": [
      "El segundo número es más grande.\n"
     ]
    }
   ],
   "source": [
    "if num1 > num2:\n",
    "    print(\"El primer número es más grande.\")\n",
    "elif num1 < num2:\n",
    "    print(\"El segundo número es más grande.\")\n",
    "else:\n",
    "    print(\"Los dos números son iguales.\")"
   ]
  }
 ],
 "metadata": {
  "kernelspec": {
   "display_name": "base",
   "language": "python",
   "name": "python3"
  },
  "language_info": {
   "codemirror_mode": {
    "name": "ipython",
    "version": 3
   },
   "file_extension": ".py",
   "mimetype": "text/x-python",
   "name": "python",
   "nbconvert_exporter": "python",
   "pygments_lexer": "ipython3",
   "version": "3.11.5"
  }
 },
 "nbformat": 4,
 "nbformat_minor": 2
}
